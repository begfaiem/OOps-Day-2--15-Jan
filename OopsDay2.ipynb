{
 "cells": [
  {
   "cell_type": "code",
   "execution_count": 1,
   "id": "d56d98b9-ae76-4685-8ad9-8d1dec348b60",
   "metadata": {},
   "outputs": [],
   "source": [
    "class test:\n",
    "    def meth1(self):\n",
    "        print(\"this is my first method\")"
   ]
  },
  {
   "cell_type": "code",
   "execution_count": 2,
   "id": "2333882c-5625-43de-81c8-0822c6d015c1",
   "metadata": {},
   "outputs": [],
   "source": [
    "a = test()"
   ]
  },
  {
   "cell_type": "code",
   "execution_count": 3,
   "id": "6d14fa90-3ef8-42ea-9f1e-9a47edfc1e54",
   "metadata": {},
   "outputs": [
    {
     "name": "stdout",
     "output_type": "stream",
     "text": [
      "this is my first method\n"
     ]
    }
   ],
   "source": [
    "a.meth1()"
   ]
  },
  {
   "cell_type": "code",
   "execution_count": 4,
   "id": "af9ebdac-b0d6-4c94-b660-7c75b6c2d42f",
   "metadata": {},
   "outputs": [],
   "source": [
    "class test1:\n",
    "    @staticmethod\n",
    "    def meth1():\n",
    "        return \"This is a method you can create without creating an object\"\n",
    "    \n",
    "    def meth2(self):\n",
    "        return \"this method is not static so that you can  not access this method without creating a method\""
   ]
  },
  {
   "cell_type": "code",
   "execution_count": 5,
   "id": "4f2d9dff-f0bd-42ed-9735-da797d1f5bdc",
   "metadata": {},
   "outputs": [],
   "source": [
    "b = test1()"
   ]
  },
  {
   "cell_type": "code",
   "execution_count": 6,
   "id": "33b13a5e-0ab6-4ae8-8446-95409e39ae17",
   "metadata": {},
   "outputs": [
    {
     "data": {
      "text/plain": [
       "'this method is not static so that you can  not access this method without creating a method'"
      ]
     },
     "execution_count": 6,
     "metadata": {},
     "output_type": "execute_result"
    }
   ],
   "source": [
    "b.meth2()"
   ]
  },
  {
   "cell_type": "code",
   "execution_count": 7,
   "id": "425fc06f-cf2d-4f35-b004-a70a0404e4f3",
   "metadata": {},
   "outputs": [],
   "source": [
    "class test2:    #The colon (:) indicates the beginning of the class block. a class is a way to bundle data and functionality together\n",
    "    def __init__(self, a, b, c):  #This line defines a special method called __init__, which is the constructor method\n",
    "        #It is called when an object of the class is created.self is a reference to the instance of the class.\n",
    "        #and a, b, and c are parameters that are used to initialize the attributes of the class\n",
    "        self.a = a  #These lines initialize the attributes a, b, and c1 with the values passed as parameters to the constructor. \n",
    "        self.b = b      #These attributes represent the state of an object created from this class\n",
    "        self.c1= c\n",
    "        \n",
    "    def meth1(self):\n",
    "        return \"This is my first method\"\n",
    "    \n",
    "    def meth2(self, n):\n",
    "        return n\n",
    "    \n",
    "    def meth3(self, m):\n",
    "        return m\n",
    "    "
   ]
  },
  {
   "cell_type": "code",
   "execution_count": 8,
   "id": "e7395784-aec4-498b-9525-f09ea8e0ae92",
   "metadata": {},
   "outputs": [],
   "source": [
    "a_test2 = test2(\"sudh\", 34, \"kumar\")"
   ]
  },
  {
   "cell_type": "code",
   "execution_count": 9,
   "id": "11ed8b44-c9d5-4d3e-b8ed-6c4efac1dd53",
   "metadata": {},
   "outputs": [],
   "source": [
    "b_test2 = test2(\"animesh\", 23 ,\"Saini\")"
   ]
  },
  {
   "cell_type": "code",
   "execution_count": 10,
   "id": "e3e20d3b-ac45-4295-be90-3356e44dce82",
   "metadata": {},
   "outputs": [],
   "source": [
    "c_test2 = test2(\"annu\" ,  34, \"rana\")"
   ]
  },
  {
   "cell_type": "markdown",
   "id": "4ab9ff4e-3c02-4016-bfa6-98bc520731ae",
   "metadata": {},
   "source": [
    "Inheritance"
   ]
  },
  {
   "cell_type": "markdown",
   "id": "64f17e74-e793-4f60-ab50-d6142ca5654d",
   "metadata": {},
   "source": [
    "\n",
    "In this example, you have three parent classes (parent1, parent2, and parent3), and a child class (child) that inherits from all three parent classes. I'll go through each class and explain their methods:\n",
    "\n",
    "In this case, you are using multiple inheritance, where a child class can inherit from more than one parent class. The child class (child) inherits the methods from parent1, parent2, and parent3, in addition to having its own method."
   ]
  },
  {
   "cell_type": "code",
   "execution_count": 11,
   "id": "08eab481-f7e8-42a4-bc89-9fb8d8fbf78c",
   "metadata": {},
   "outputs": [],
   "source": [
    "class parent1:   #This is a simple class parent1 \n",
    "    def parent_meth(self):    # This is a method called parent_meth\n",
    "        return \"This is a parent1 method\"    #The method returns a string indicating that it is a method of parent1.\n",
    "    \n",
    "class parent2:\n",
    "    def parent_meth2(self):\n",
    "        return \"This is a parent method2\"\n",
    "    \n",
    "class parent3:\n",
    "    def parent_meth3(self):\n",
    "        return \"this is a parent methood3\"\n",
    "    \n",
    "class child(parent1,parent2,parent3): #The child class inherits from all three parent classes (parent1, parent2, and parent3)\n",
    "    def child_meth(self):\n",
    "        return \"this is my child method\"\n",
    "        "
   ]
  },
  {
   "cell_type": "code",
   "execution_count": 12,
   "id": "ce999b0c-65da-4ef2-ba52-0823a940b591",
   "metadata": {},
   "outputs": [],
   "source": [
    "var_child = child()"
   ]
  },
  {
   "cell_type": "code",
   "execution_count": 13,
   "id": "cf5cb74c-26dc-437b-ac9f-a56f37707750",
   "metadata": {},
   "outputs": [
    {
     "data": {
      "text/plain": [
       "'This is a parent1 method'"
      ]
     },
     "execution_count": 13,
     "metadata": {},
     "output_type": "execute_result"
    }
   ],
   "source": [
    "var_child.parent_meth()"
   ]
  },
  {
   "cell_type": "code",
   "execution_count": 14,
   "id": "215ae189-8275-46a8-a7a2-a6630915132f",
   "metadata": {},
   "outputs": [
    {
     "data": {
      "text/plain": [
       "'This is a parent method2'"
      ]
     },
     "execution_count": 14,
     "metadata": {},
     "output_type": "execute_result"
    }
   ],
   "source": [
    "var_child.parent_meth2()"
   ]
  },
  {
   "cell_type": "code",
   "execution_count": 15,
   "id": "c3e1f2a5-5da4-489f-be14-59d8aa82e7b1",
   "metadata": {},
   "outputs": [
    {
     "data": {
      "text/plain": [
       "'this is a parent methood3'"
      ]
     },
     "execution_count": 15,
     "metadata": {},
     "output_type": "execute_result"
    }
   ],
   "source": [
    "var_child.parent_meth3()"
   ]
  },
  {
   "cell_type": "code",
   "execution_count": 16,
   "id": "e3248fc1-2be9-4315-a9d4-6ac5f0ba418c",
   "metadata": {},
   "outputs": [
    {
     "data": {
      "text/plain": [
       "'this is my child method'"
      ]
     },
     "execution_count": 16,
     "metadata": {},
     "output_type": "execute_result"
    }
   ],
   "source": [
    "var_child.child_meth()"
   ]
  },
  {
   "cell_type": "code",
   "execution_count": 17,
   "id": "6339f66d-497a-4b7d-abcc-c865138ac484",
   "metadata": {},
   "outputs": [],
   "source": [
    "class class1:\n",
    "    \n",
    "    def calss1_meth(self):\n",
    "        return \"class1 meth\" \n",
    "    \n",
    "class class2(class1) : #It's a case of single-level inheritance because class2 is directly inheriting from class1.\n",
    "    pass  #The pass statement indicates that the class does not have any additional methods or attributes of its own.\n",
    "\n",
    "class class3(class2):  #single-level inheritance.class3 that inherits from class2\n",
    "    \n",
    "    def class3_meth(self):\n",
    "        return \"this is my class 3 \""
   ]
  },
  {
   "cell_type": "code",
   "execution_count": 18,
   "id": "946c81c3-5c39-4571-a936-e4496d06ec2d",
   "metadata": {},
   "outputs": [],
   "source": [
    "var_class3 = class3()"
   ]
  },
  {
   "cell_type": "code",
   "execution_count": 19,
   "id": "66accb5c-3a4b-4b6b-a1ab-4266ca29f24c",
   "metadata": {},
   "outputs": [
    {
     "data": {
      "text/plain": [
       "'class1 meth'"
      ]
     },
     "execution_count": 19,
     "metadata": {},
     "output_type": "execute_result"
    }
   ],
   "source": [
    "var_class3.calss1_meth()"
   ]
  },
  {
   "cell_type": "markdown",
   "id": "63ede33e-7691-4052-96ad-fe3120168e6e",
   "metadata": {},
   "source": [
    "Summary : In terms of inheritance:\n",
    "\n",
    "If we consider only class1 and class2, it's single-level inheritance.\n",
    "If we consider all three classes (class1, class2, and class3), it's also single-level inheritance.\n",
    "There is no multiple inheritance in this code because each class inherits from only one other class. Multiple inheritance would involve a class inheriting from more than one base class simultaneously."
   ]
  },
  {
   "cell_type": "code",
   "execution_count": 20,
   "id": "0024ec4e-64bf-412e-a963-a6a06752bced",
   "metadata": {},
   "outputs": [],
   "source": [
    "class test5:\n",
    "    def test(self) : \n",
    "        return \"this is my test meth\" \n",
    "    \n",
    "class test6:\n",
    "    def test(self) :\n",
    "        return \"this is my meth from calss test6 called test\" \n",
    "    \n",
    "class test7(test5):  #This class test7 inherits from test5.\n",
    "    def test(self) : # It overrides the test method, providing its own implementation.\n",
    "        return \"this is my test form test7\"  #The overridden method returns a string indicating that it is the \"test\" method of test7"
   ]
  },
  {
   "cell_type": "code",
   "execution_count": 21,
   "id": "59ad4fb1-213c-400c-81ab-b4a8b79cc8f0",
   "metadata": {},
   "outputs": [],
   "source": [
    "var_classtest7 = test7()"
   ]
  },
  {
   "cell_type": "code",
   "execution_count": 22,
   "id": "bbb7dd9e-0c1b-461d-af89-71536dd3cdb6",
   "metadata": {},
   "outputs": [
    {
     "data": {
      "text/plain": [
       "'this is my test form test7'"
      ]
     },
     "execution_count": 22,
     "metadata": {},
     "output_type": "execute_result"
    }
   ],
   "source": [
    "var_classtest7.test()"
   ]
  },
  {
   "cell_type": "markdown",
   "id": "437f8eea-72a2-4535-a8b2-7918529cbd4e",
   "metadata": {},
   "source": [
    "In this example, test7 is using method overriding. When an object of class test7 calls the test method, it will execute the implementation provided in test7 rather than the one in the base class (test5).\n",
    "\n",
    "Here, var_classtest7 is an instance of the test7 class, created using test7().\n",
    "\n",
    "When you call the test method on var_classtest7 using var_classtest7.test(), it executes the overridden method from test7. In this specific case, the test method in test7 returns the string \"this is my test form test7\"."
   ]
  },
  {
   "cell_type": "code",
   "execution_count": 23,
   "id": "ffcce00f-5d61-4fba-8394-a16b810e8b5a",
   "metadata": {},
   "outputs": [],
   "source": [
    "class test8:\n",
    "    \n",
    "    def test(self , c = 5 , b = 4 , d = 7 ): #The parameters have default values, so if they are not provided when calling the method, the default values (c=5, b=4, d=7) will be used\n",
    "        return c,b,d"
   ]
  },
  {
   "cell_type": "code",
   "execution_count": 24,
   "id": "40b90d5a-4beb-4a88-aa24-9203011969da",
   "metadata": {},
   "outputs": [],
   "source": [
    "var_test8  = test8() "
   ]
  },
  {
   "cell_type": "code",
   "execution_count": 25,
   "id": "a6a20938-d8ae-4188-842a-925bed5cf537",
   "metadata": {},
   "outputs": [
    {
     "data": {
      "text/plain": [
       "(5, 4, 7)"
      ]
     },
     "execution_count": 25,
     "metadata": {},
     "output_type": "execute_result"
    }
   ],
   "source": [
    "var_test8.test() #In this case, the test method is called without any arguments, so the default values are used. \n"
   ]
  },
  {
   "cell_type": "code",
   "execution_count": 26,
   "id": "ec574bd6-3dd1-4d57-b5cb-bc58f69a93de",
   "metadata": {},
   "outputs": [
    {
     "data": {
      "text/plain": [
       "('sudh', 4, 7)"
      ]
     },
     "execution_count": 26,
     "metadata": {},
     "output_type": "execute_result"
    }
   ],
   "source": [
    "var_test8.test(\"sudh\") #Here, the test method is called with one argument \"sudh\", and the default values for b and d are used"
   ]
  },
  {
   "cell_type": "code",
   "execution_count": 27,
   "id": "1e8c4184-85a5-4802-a21f-5d0f2983f96f",
   "metadata": {},
   "outputs": [
    {
     "data": {
      "text/plain": [
       "('sudh', 'kumar', 7)"
      ]
     },
     "execution_count": 27,
     "metadata": {},
     "output_type": "execute_result"
    }
   ],
   "source": [
    "var_test8.test(\"sudh\" , \"kumar\") #In this case, the test method is called with two arguments \"sudh\" and \"kumar\", and the default value for d is used."
   ]
  },
  {
   "cell_type": "code",
   "execution_count": 28,
   "id": "bf8330f4-5425-4e37-9736-2c8a068aad8e",
   "metadata": {},
   "outputs": [],
   "source": [
    "# orverlaoding is a situation where number of argument and data type will be different \n",
    "#overrding is a situation where signature of the function means name and parameter will same we will just chage the def of the func"
   ]
  },
  {
   "cell_type": "code",
   "execution_count": 29,
   "id": "f093acf8-b971-4c18-a3ba-7918f7b7e1be",
   "metadata": {},
   "outputs": [],
   "source": [
    "def test(a,b):\n",
    "    return a+b"
   ]
  },
  {
   "cell_type": "code",
   "execution_count": 30,
   "id": "f0fcb2a5-2abd-4fa5-b995-a1cc1aff286c",
   "metadata": {},
   "outputs": [
    {
     "data": {
      "text/plain": [
       "7"
      ]
     },
     "execution_count": 30,
     "metadata": {},
     "output_type": "execute_result"
    }
   ],
   "source": [
    "test(3,4)\n"
   ]
  },
  {
   "cell_type": "code",
   "execution_count": 31,
   "id": "ebcbadd1-d1ea-42d2-8e2a-0c29209c085e",
   "metadata": {},
   "outputs": [
    {
     "data": {
      "text/plain": [
       "'sudh kuamr'"
      ]
     },
     "execution_count": 31,
     "metadata": {},
     "output_type": "execute_result"
    }
   ],
   "source": [
    "test(\"sudh \" , \"kuamr\")"
   ]
  },
  {
   "cell_type": "markdown",
   "id": "bcb631bf-34c4-431c-b223-5897f4e85e21",
   "metadata": {},
   "source": [
    "This calls the test function with string arguments \"sudh \" and \"kumar\". The result of this call (\"sudh \" + \"kumar\") is the concatenation of the two strings, resulting in the string \"sudh kumar\". However, as in the previous case, the result is not assigned to a variable or printed."
   ]
  },
  {
   "cell_type": "code",
   "execution_count": 32,
   "id": "591fee7e-2394-4a31-a7e2-272de9d7990c",
   "metadata": {},
   "outputs": [],
   "source": [
    "class test1 : \n",
    "    \n",
    "    def test(self) : \n",
    "        return \"this is my meth from test1\" \n",
    "    \n",
    "class test2 : \n",
    "    \n",
    "    def test(self):\n",
    "        return \"this is my meth from test2\" \n",
    "    \n",
    "class test3:\n",
    "    def test(self) : \n",
    "        return \"this is my meth form test3\""
   ]
  },
  {
   "cell_type": "code",
   "execution_count": 33,
   "id": "2bd71ccc-616c-4c54-9da4-18d8912a1990",
   "metadata": {},
   "outputs": [],
   "source": [
    "#Instance Creation:\n",
    "var_class = [test1()  , test2(), test3()] #You create a list var_class that contains instances of test1, test2, and test3. Each instance is created using the respective class"
   ]
  },
  {
   "cell_type": "code",
   "execution_count": 34,
   "id": "f6748cc8-01e3-429d-9d71-926ae2fa87e8",
   "metadata": {},
   "outputs": [
    {
     "name": "stdout",
     "output_type": "stream",
     "text": [
      "this is my meth from test1\n",
      "this is my meth from test2\n",
      "this is my meth form test3\n"
     ]
    }
   ],
   "source": [
    "#Iteration and Method Call:\n",
    "#You iterate through each element in the list (var_class). For each element (i), \n",
    "#you call the test method and print the result.\n",
    "for i in var_class : \n",
    "    print(i.test())"
   ]
  },
  {
   "cell_type": "markdown",
   "id": "12bf537b-450b-4a4a-bb49-fc2986d22016",
   "metadata": {},
   "source": [
    "In summary, the code demonstrates polymorphism, where different classes provide their own implementation of a common method (test in this case), and you can call that method on instances of different classes through a common interface."
   ]
  },
  {
   "cell_type": "markdown",
   "id": "287134a1-76aa-452e-a878-59bb1154037b",
   "metadata": {},
   "source": [
    "#q1  : create a file class for reading a data from one of the file with a method name read and write\n",
    "\n",
    "use loggiing , exception handling "
   ]
  },
  {
   "cell_type": "code",
   "execution_count": 35,
   "id": "731e41cd-a8ca-4c76-9a5d-0c149190249c",
   "metadata": {},
   "outputs": [],
   "source": [
    "def read():\n",
    "    try :\n",
    "        with open('test.txt' , 'r') as file :\n",
    "            data = file.read()\n",
    "            return data\n",
    "    except FileNotFoundError as e :\n",
    "        print(e)"
   ]
  },
  {
   "cell_type": "code",
   "execution_count": 36,
   "id": "4b6a294e-8da8-4362-af00-1451a3c5b7d9",
   "metadata": {},
   "outputs": [
    {
     "data": {
      "text/plain": [
       "'this is my data for file'"
      ]
     },
     "execution_count": 36,
     "metadata": {},
     "output_type": "execute_result"
    }
   ],
   "source": [
    "read()\n"
   ]
  },
  {
   "cell_type": "code",
   "execution_count": 37,
   "id": "e857b3a1-95d6-4298-b0fb-e45de71ac0a3",
   "metadata": {},
   "outputs": [],
   "source": [
    "def write():\n",
    "    with open('test.txt' , 'w') as file :\n",
    "        data = file.write(\"this is my data for file\")"
   ]
  },
  {
   "cell_type": "code",
   "execution_count": 38,
   "id": "d26641d5-6ec2-420d-baab-6818f358cb4b",
   "metadata": {},
   "outputs": [],
   "source": [
    "write()"
   ]
  },
  {
   "cell_type": "code",
   "execution_count": 40,
   "id": "93e6a855-85e8-46e9-89f2-b440f8c87044",
   "metadata": {},
   "outputs": [],
   "source": [
    "import logging\n",
    "\n",
    "logging.basicConfig(filename='file_class.log', level=logging.DEBUG , filemode='w', format=\"%(asctime)s %(levelname)s %(message)s\")\n",
    "\n",
    "class file : \n",
    "    def __init__(self , filename)  :\n",
    "        self.filename = filename \n",
    "                    \n",
    "    def read(self):\n",
    "        logging.info(\"This is a start of read operation \" )\n",
    "        try :\n",
    "            logging.info(\"i am inside try block of read method \")\n",
    "            with open(self.filename , 'r') as file :\n",
    "                data = file.read()\n",
    "                logging.info(\"I am able to read the file \")\n",
    "                return data\n",
    "        except FileNotFoundError as e :\n",
    "            #print(e)\n",
    "            logging.error(\"there is some issue with  the read file operation\")\n",
    "            logging.error(e)\n",
    "        \n",
    "    def write(self,data1):\n",
    "        try: \n",
    "            logging.info(\"i am inside a try to write fun\")\n",
    "            with open(self.filename, 'a') as file :\n",
    "                data = file.write(data1) \n",
    "                logging.info(\"i am able to write a data into file succesfully\")\n",
    "        except Exception as e : \n",
    "            #print(e)\n",
    "            logging.error(\"there is an issue with write ops\")\n",
    "            logging.error(e)"
   ]
  },
  {
   "cell_type": "code",
   "execution_count": 42,
   "id": "2a0361af-2103-41d3-983a-746b8e4648a0",
   "metadata": {},
   "outputs": [],
   "source": [
    "file_obj = file(\"test1.txt\")\n",
    "file_obj.read()"
   ]
  },
  {
   "cell_type": "code",
   "execution_count": 43,
   "id": "a5c50603-0212-43f9-b922-48c77b184581",
   "metadata": {},
   "outputs": [],
   "source": [
    "file_obj.write(\"This is my data to be written inside my file\")"
   ]
  },
  {
   "cell_type": "code",
   "execution_count": 44,
   "id": "82a98355-7e7d-4c1f-8fc6-88c617c26ef1",
   "metadata": {},
   "outputs": [
    {
     "data": {
      "text/plain": [
       "'This is my data to be written inside my file'"
      ]
     },
     "execution_count": 44,
     "metadata": {},
     "output_type": "execute_result"
    }
   ],
   "source": [
    "file_obj.read()"
   ]
  },
  {
   "cell_type": "code",
   "execution_count": 46,
   "id": "9f35bc55-672b-4cf3-91c7-2e87f2e77814",
   "metadata": {},
   "outputs": [
    {
     "name": "stdout",
     "output_type": "stream",
     "text": [
      "file_class.log           OopsDay2.ipynb   README.md          test.txt\n",
      "MongoDBConnection.ipynb  OopsDay2Q.ipynb  sample-code.ipynb\n",
      "MongoDBQueries.ipynb     Oops.ipynb       test1.txt\n"
     ]
    }
   ],
   "source": [
    "ls"
   ]
  },
  {
   "cell_type": "code",
   "execution_count": 50,
   "id": "fd9d0b39-64a9-4985-8434-23f9d6bdb354",
   "metadata": {},
   "outputs": [
    {
     "ename": "SyntaxError",
     "evalue": "invalid syntax (2005784764.py, line 1)",
     "output_type": "error",
     "traceback": [
      "\u001b[0;36m  Cell \u001b[0;32mIn [50], line 1\u001b[0;36m\u001b[0m\n\u001b[0;31m    impoer os\u001b[0m\n\u001b[0m           ^\u001b[0m\n\u001b[0;31mSyntaxError\u001b[0m\u001b[0;31m:\u001b[0m invalid syntax\n"
     ]
    }
   ],
   "source": [
    "import os\n",
    "os.getcwd()"
   ]
  },
  {
   "cell_type": "code",
   "execution_count": null,
   "id": "b9d1a0d8-ea13-4069-8e15-96ce091d3da6",
   "metadata": {},
   "outputs": [],
   "source": []
  }
 ],
 "metadata": {
  "kernelspec": {
   "display_name": "Python 3 (ipykernel)",
   "language": "python",
   "name": "python3"
  },
  "language_info": {
   "codemirror_mode": {
    "name": "ipython",
    "version": 3
   },
   "file_extension": ".py",
   "mimetype": "text/x-python",
   "name": "python",
   "nbconvert_exporter": "python",
   "pygments_lexer": "ipython3",
   "version": "3.10.6"
  }
 },
 "nbformat": 4,
 "nbformat_minor": 5
}
