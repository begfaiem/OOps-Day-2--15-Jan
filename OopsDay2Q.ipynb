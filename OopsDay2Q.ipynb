{
 "cells": [
  {
   "cell_type": "markdown",
   "id": "339c20bb-9951-4443-878b-9c93d214af07",
   "metadata": {},
   "source": [
    "Q1 -  Creta a file calass for reading a data from one of the file with a method name read or write\n",
    "\n",
    "use logging , exceptional Handeleing"
   ]
  },
  {
   "cell_type": "code",
   "execution_count": null,
   "id": "d3d2d00f-4e4e-489c-b715-c7637e0d82b0",
   "metadata": {},
   "outputs": [],
   "source": [
    "import logging\n",
    "\n",
    "class File:\n",
    "    \n",
    "    def __init__(self, filename):\n",
    "        self.filename = filename\n",
    "    \n",
    "   \n",
    "    def read(self):\n",
    "        with open (self.filename, 'r') as file:\n",
    "            data = file.read()\n",
    "            return data\n",
    "    \n",
    "    def write(self, data1):\n",
    "        with open (self.filename  , 'w') as file:\n",
    "            data = file.write(data1)\n",
    "        print()"
   ]
  }
 ],
 "metadata": {
  "kernelspec": {
   "display_name": "Python 3 (ipykernel)",
   "language": "python",
   "name": "python3"
  },
  "language_info": {
   "codemirror_mode": {
    "name": "ipython",
    "version": 3
   },
   "file_extension": ".py",
   "mimetype": "text/x-python",
   "name": "python",
   "nbconvert_exporter": "python",
   "pygments_lexer": "ipython3",
   "version": "3.10.6"
  }
 },
 "nbformat": 4,
 "nbformat_minor": 5
}
