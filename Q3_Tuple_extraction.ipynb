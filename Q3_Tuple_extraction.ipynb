{
 "cells": [
  {
   "cell_type": "code",
   "execution_count": 1,
   "id": "a0326bfb-fe63-44ab-8069-556d996bc31a",
   "metadata": {},
   "outputs": [],
   "source": [
    "#q3 : create a class for tuple data extraction operation "
   ]
  },
  {
   "cell_type": "code",
   "execution_count": 47,
   "id": "6f994b96-776d-4ccd-be7b-cf71ce950eca",
   "metadata": {},
   "outputs": [],
   "source": [
    "import logging  #This line imports the logging module, which provides flexible logging of messages in Python.\n",
    "\n",
    "# Configuring logging\n",
    "logging.basicConfig(filename=\"tuple_class.log\", level=logging.DEBUG, filemode='w', format=\"%(lineno)s - %(asctime)s - %(levelname)s - %(message)s\")\n",
    "\n",
    "class Tuple:\n",
    "    def __init__(self, t1):\n",
    "        \"\"\"\n",
    "        Constructor to initialize the Tuple class with a tuple.\n",
    "        \"\"\"\n",
    "        self.t1 = t1\n",
    "\n",
    "    def extract(self):\n",
    "        \"\"\"\n",
    "        Method to extract a portion of the tuple based on user-defined start and end indices.\n",
    "        \"\"\"\n",
    "        try:\n",
    "            logging.info(\"Entering the extract method to extract the data\")\n",
    "\n",
    "            # Getting user input for start and end indices\n",
    "            start = int(input(\"Enter the start index number: \"))\n",
    "            end = int(input(\"Enter the end index number: \"))\n",
    "\n",
    "            # Returning the extracted data\n",
    "            return self.t1[start:end]\n",
    "\n",
    "        except Exception as e:\n",
    "            # Logging an error message along with the exception details\n",
    "            logging.error(\"Error occurred during extraction\")\n",
    "            logging.exception(e)\n"
   ]
  },
  {
   "cell_type": "code",
   "execution_count": 48,
   "id": "d663733c-7775-4667-8172-8ee803050495",
   "metadata": {},
   "outputs": [],
   "source": [
    "tuple_obj = Tuple((2 , 3, 4, 5, 6, \"faheem\", \"Beg\", 27, 8979))"
   ]
  },
  {
   "cell_type": "code",
   "execution_count": 49,
   "id": "7388c54e-4567-4dc0-a1c5-ab5c8033fce4",
   "metadata": {},
   "outputs": [
    {
     "name": "stdin",
     "output_type": "stream",
     "text": [
      "Enter the start index number:  2\n",
      "Enter the end index number:  6\n"
     ]
    },
    {
     "data": {
      "text/plain": [
       "(4, 5, 6, 'faheem')"
      ]
     },
     "execution_count": 49,
     "metadata": {},
     "output_type": "execute_result"
    }
   ],
   "source": [
    "tuple_obj.extract()"
   ]
  },
  {
   "cell_type": "raw",
   "id": "87f6340a-dbb3-4fc0-9209-1fc518ca7a4c",
   "metadata": {},
   "source": [
    "Here, the logging is configured using basicConfig:\n",
    "\n",
    "filename: Specifies the name of the log file (tuple_class.log).\n",
    "level=logging.DEBUG: Sets the logging level to DEBUG, so all messages of severity DEBUG and higher will be recorded.\n",
    "filemode='w': Specifies that the log file should be opened in write mode, overwriting the file if it already exists.\n",
    "format=\"%(lineno)s - %(asctime)s - %(levelname)s - %(message)s\": Defines the format of the log messages, including line number, timestamp, log level, and the actual message."
   ]
  },
  {
   "cell_type": "raw",
   "id": "82dcaa42-3213-4518-bda2-9ff8c8c48f21",
   "metadata": {},
   "source": [
    "The extract method is defined within the Tuple class. It:\n",
    "\n",
    "Logs an informational message indicating the entry into the extract method.\n",
    "Attempts to get user input for the start and end indices.\n",
    "Returns a portion of the tuple (self.t1) based on the user-defined start and end indices.\n",
    "If an exception occurs during the execution (e.g., if the user enters a non-integer value), it logs an error message along with the details of the exception using the logging.exception method.\n",
    "This code is essentially a simple Python class (Tuple) with a method (extract) that interacts with the user to extract a portion of a tuple, while logging relevant information and potential errors using the logging module. The logging is configured to record detailed information in the specified log file.\n",
    "\n",
    "\n",
    "\n",
    "\n"
   ]
  },
  {
   "cell_type": "code",
   "execution_count": null,
   "id": "a28eb6dd-c71a-4ed0-80b4-d86693f0e98e",
   "metadata": {},
   "outputs": [],
   "source": []
  }
 ],
 "metadata": {
  "kernelspec": {
   "display_name": "Python 3 (ipykernel)",
   "language": "python",
   "name": "python3"
  },
  "language_info": {
   "codemirror_mode": {
    "name": "ipython",
    "version": 3
   },
   "file_extension": ".py",
   "mimetype": "text/x-python",
   "name": "python",
   "nbconvert_exporter": "python",
   "pygments_lexer": "ipython3",
   "version": "3.10.6"
  }
 },
 "nbformat": 4,
 "nbformat_minor": 5
}
